{
 "cells": [
  {
   "cell_type": "markdown",
   "metadata": {},
   "source": [
    "# Rock Coast Modelling Lab\n",
    "Geomorphic systems tend to develop slowly relative to the timescale of a human life. One way in which we can understand how landscapes change over longer timescales is to use computer models to simulate geomorphic processes. In this lab you will apply a simple model for how rock coasts develop over time. The model is referred to as \"simple\" because it relies on mathematical simplifications, and rules, to represent otherwise complex physics in an abstracted way. The advantage of such an approach is that we can change individual components (such as tidal range) and explore how it influences the development of rock coast morphology.\n",
    "\n",
    "The model developed here is based on the work of Sunamura (1992), Trenahile (2000), Hurst et al. (2017), and Matsumoto et al. (2016), but has been kept to the basic critical components for the purposes of this lab. \n",
    "\n",
    "The model is written in the Python computer programming language, but you don't need any prior knowledge of computer programming. The aims of this lab are\n",
    "* Understand how coastal processes can be represented numerically\n",
    "* Run the numerical model to simulate shore platform development\n",
    "* Explore the controls on how rapidly rock coasts evolve through time\n",
    "* Create and explain graphs/figures that demonstrate particular controls on shore platform morphology\n",
    "\n",
    "### Python\n",
    "The programming language we are using in this lab is called Python. No prior knowledge of programming is required for this lab. Learning how to be a programmer is not the aim! However, this sort of scientific computing is becoming more common place in research and consultancy, so it won't do you any harm to see it in action. Python is multifunctional, for example it can interface with QGIS (software we will use un future labs) to automate workflows.\n",
    "\n",
    "This notebook file is split into blocks of text and blocks of code. **To run a code block, click in a cell, hold down shift, and press enter.** An asterisk in square brackets `In [*]:` will appear while the code is being executed, and this will change to a number `In [1]:` when the code is finished. *The order in which you execute the code blocks matters, they must be run in sequence.* If you run into any errors, click the \"Kernel\" menu at the of the page and then \"Restart & Clear Output\" and then run everything again from the top. \n",
    "\n",
    "Inside blocks of python code there are comments indicated by lines that start with `#`. These lines are not computer code but rather comments providing information about what the code is doing to help you follow along. \n",
    "\n",
    "Before we get started we need to tell python which tools we want to use (these are called modules):"
   ]
  },
  {
   "cell_type": "code",
   "execution_count": null,
   "metadata": {},
   "outputs": [],
   "source": [
    "# import modules <- this is a comment\n",
    "import numpy as np\n",
    "import matplotlib.pyplot as plt\n",
    "from matplotlib import cm\n",
    "\n",
    "# tell python to allow plotting to occur within the page\n",
    "%matplotlib inline\n",
    "\n",
    "# Customise figure style\n",
    "from matplotlib import rc\n",
    "rc('font',**{'family':'sans-serif','sans-serif':['Arial']})\n",
    "rc('font', size=16)\n",
    "\n",
    "# Couple of other things for displaying model progress\n",
    "from ipywidgets import FloatProgress\n",
    "from IPython.display import display"
   ]
  },
  {
   "cell_type": "markdown",
   "metadata": {},
   "source": [
    "## Model Framework\n",
    "\n",
    "A numerical model of a rock coast needs to take our perception of how rock coasts develop and identify they key processes that need to be represented. The schematic diagram from the lecture (after Castedo et al., 2017) can show the key componeents of the system we need to represent using a computer.\n",
    "\n",
    "<img src=\"schematic_rock_coast.png\" width=\"800\">\n",
    "\n",
    "For modelling purposes we will consider the rock coast in cross section only as per the grey schematic on the left. The topography is then represented as a horizontal stack of bars of rock as per the right hand image. The model coast then evolves by keeping track of the horizontal position of each bar. We decide whether or not to erode each bar by considering the balance of driving forces (i.e. wave force) vs. resisting force (rock mass strength) as the model evolves through time. The modelling process we will follow is set out in the following diagram from Matsumoto et al. (2016):\n",
    "\n",
    "<img src=\"model_flow_diagram.png\" width=\"800\">\n",
    "\n",
    "Before we attempt to model how a rock coast evolves, we're first going to explore some of the individual components that go into the model, so that you can see how these are represented simply using mathematics and implemented in a computer programme. ***There are exercises highlighted in blue boxes for you to complete as you work through this interactive notebook***, these include being asked to modify certain parts of the computer code to change the values of key parameters. The locations you should modify have been highlighted clearly in the style shown in the box below."
   ]
  },
  {
   "cell_type": "code",
   "execution_count": null,
   "metadata": {},
   "outputs": [],
   "source": [
    "\"\"\" THIS IS AN EXAMPLE OF SOMETHING YOU SHOULD MODIFY\"\"\"\n",
    "MYPARAMETER = 10."
   ]
  },
  {
   "cell_type": "markdown",
   "metadata": {},
   "source": [
    "## Waves\n",
    "Whether or not erosion takes place depends on the balance of wave force to resisting force. So we'll start by exploring how we can represent wave force using a computer. We could devote an entire course to the physics of waves, but for the purposes of this session we will explore some simplified ideas about how ocean waves change as they approach the coast. The transformation of waves as they approach the shore dictates where, and how much wave energy is available to do geomorphic work; transporting sediment, plucking blocks of bedrock from the shore platform, or impacting against shore platforms and cliffs.\n",
    "\n",
    "To think about how waves interact with the coast, we'll start by setting up a basic nearshore topography, a planar sloping surface or platform:"
   ]
  },
  {
   "cell_type": "code",
   "execution_count": null,
   "metadata": {},
   "outputs": [],
   "source": [
    "\"\"\" SET THE SLOPE OF THE PLATFORM HERE \"\"\"\n",
    "SLOPE = 0.02\n",
    "\n",
    "# set up the geometry wher Z is elevation and X is cross-shore distance\n",
    "Z = np.arange(-10.,10.,0.1)\n",
    "X = Z/SLOPE\n",
    "\n",
    "# find sea level\n",
    "SLInd = np.argmin(np.abs(0.-Z))\n",
    "\n",
    "# set up a figure and set of axes for plotting\n",
    "fig1, ax1 = plt.subplots()\n",
    "\n",
    "# plot the platform and mean sea level at 0m\n",
    "ax1.plot(X,Z,'k-')\n",
    "ax1.plot([X[0],X[SLInd]],[0,0],'b--')\n",
    "ax1.set_xlabel(\"Distance (m)\")\n",
    "ax1.set_ylabel(\"Elevation (m)\")\n",
    "\n",
    "# set no vertical exaggeration on the plot\n",
    "# ax1.axis('equal')\n",
    "# ax1.set_aspect(10.)"
   ]
  },
  {
   "cell_type": "markdown",
   "metadata": {},
   "source": [
    "### Wave Breaking\n",
    "An empirical rule of thumb is that waves begin to break when they reach a water depth that is 80% of the wave height. So let's calculate water depth and find the location at which a wave breaks for a particular wave height:"
   ]
  },
  {
   "cell_type": "code",
   "execution_count": null,
   "metadata": {},
   "outputs": [],
   "source": [
    "\"\"\" SET THE WAVE HEIGHT HERE \"\"\"\n",
    "WAVEHEIGHT = 2.\n",
    "\n",
    "# calculate water depth and find breaking point\n",
    "WaterDepth = 0-Z[0:SLInd]\n",
    "BreakingPoint = np.argmin(np.abs(WaterDepth-WAVEHEIGHT*0.8))\n",
    "\n",
    "#plot the breaking point\n",
    "ax1.plot([X[BreakingPoint],X[BreakingPoint]],[-WaterDepth[BreakingPoint],0],'r-')\n",
    "fig1"
   ]
  },
  {
   "cell_type": "markdown",
   "metadata": {},
   "source": [
    "### The decay of breaking wave height\n",
    "Once waves begin to break, wave height decreases. This decrease can be approximated by an exponential function where the height of the breaking wave as it progresses shoreward $H_b$ depends on the wave height offshore before it breaks $H_0$, the distance the wave has travelled since breaking $x_b$ and a decay coefficient that describes how rapidly the breaking wave loses height (and energy) $k$:\n",
    "\n",
    "$$\n",
    "\\begin{equation}\n",
    "H_b = H_0 e^{-k x_b}\n",
    "\\end{equation}\n",
    "$$\n",
    "\n",
    "Appropriate values for the decay coefficient are somewhere in the region 0.01 to 1. Let's make a plot of how wave height changes after a wave breaks as it moves towards the shore:"
   ]
  },
  {
   "cell_type": "code",
   "execution_count": null,
   "metadata": {},
   "outputs": [],
   "source": [
    "\"\"\" SET THE WAVE DECAY COEFFICIENT HERE\n",
    "    AND THE COLOUR OF THE LINE TO PLOT \"\"\"\n",
    "DECAY_COEFFICIENT = 0.1\n",
    "COLOUR = 'b' #blue\n",
    "\n",
    "# calculate wave heights\n",
    "H = np.zeros(SLInd)\n",
    "H[0:BreakingPoint] = WAVEHEIGHT\n",
    "H[BreakingPoint:] = WAVEHEIGHT*np.exp(-(X[BreakingPoint:SLInd]-X[BreakingPoint])*DECAY_COEFFICIENT)\n",
    "\n",
    "# set up a figure and set of axes for plotting\n",
    "fig2, ax2 = plt.subplots()\n",
    "\n",
    "ax2.plot(X[0:SLInd],H,'-',color=COLOUR)\n",
    "ax2.set_xlabel(\"Distance (m)\")\n",
    "ax2.set_ylabel(\"Wave Height (m)\")\n",
    "ax2.set_xlim(X[BreakingPoint]-10.,X[SLInd]+10.)"
   ]
  },
  {
   "cell_type": "code",
   "execution_count": null,
   "metadata": {},
   "outputs": [],
   "source": [
    "\"\"\" SET THE WAVE DECAY COEFFICIENT AGAIN HERE \"\"\"\n",
    "DECAY_COEFFICIENT = 0.01\n",
    "\n",
    "# execute the exponential equation again here for the breaking wave\n",
    "H[BreakingPoint:] = WAVEHEIGHT*np.exp(-(X[BreakingPoint:SLInd]-X[BreakingPoint])*DECAY_COEFFICIENT)\n",
    "\n",
    "# plot the new result with a red line\n",
    "\"\"\"\n",
    "YOU CAN CHANGE THE COLOUR OF THE LINE HERE\n",
    "\"r\" = red, \"g\" = green, \"k\" = black\n",
    "or you can use an RedGreenBlue combination\n",
    "[0,0,0] is black; [0.5,0.5,0.5] is grey\n",
    "[1,0,1] is purple etc.\n",
    "\"\"\"\n",
    "COLOUR = \"r\"\n",
    "ax2.plot(X[0:SLInd],H,'-',color=COLOUR)\n",
    "\n",
    "# display the updated figure\n",
    "fig2\n"
   ]
  },
  {
   "cell_type": "markdown",
   "metadata": {},
   "source": [
    "<div class=\"alert alert-block alert-info\">\n",
    "<font color=\"black\">\n",
    "<h3>TASK 1</h3>\n",
    "<p> Modify parameters above to answer the following questions:\n",
    "<ol>\n",
    "    <li>Do waves break closer to the coast on gentler or steeper sloping platforms?\n",
    "    <li>Do large waves tend to break nearer the coast or further offshore?\n",
    "    <li>Change the value of the decay coefficient to explore the range of values from $k = 0.01$ up to $k = 1$. Based on your experience of coasts what do you think a realistic value might be?\n",
    "</ol>\n",
    "</p>\n",
    "<p></p>\n",
    "</font>\n",
    "</div>"
   ]
  },
  {
   "cell_type": "markdown",
   "metadata": {},
   "source": [
    "### DOUBLE CLICK ON THIS BLOCK AND YOU CAN TYPE YOUR ANSWERS\n",
    "\n",
    "Type your answers here once you have double-clicked."
   ]
  },
  {
   "cell_type": "markdown",
   "metadata": {},
   "source": [
    "## Tides\n",
    "\n",
    "The elevations at which wave energy is delivered to the coast vary with the tides. The greater the tidal range, the wider range of elevations can potentially be attacked by waves and eroded. Just like waves, tides can be represented mathematically using a sinusoidal function to describe the change in mean water surface elevation $z_w$ through time $t$ (hours) over a single tidal cycle:\n",
    "\n",
    "$$\n",
    "\\begin{equation}\n",
    "z_w = {{1}\\over{2}} T_R \\sin \\left( {{2\\pi t}\\over{T_D}} \\right)\n",
    "\\end{equation}\n",
    "$$\n",
    "\n",
    "where $T_R$ is the tidal range, and $T_D$ is the tidal duration (12 hours for semidiurnal tides for simplicity)."
   ]
  },
  {
   "cell_type": "code",
   "execution_count": null,
   "metadata": {},
   "outputs": [],
   "source": [
    "\"\"\" SET THE TIDAL RANGE HERE (in metres) \"\"\"\n",
    "TIDAL_RANGE = 2.\n",
    "\n",
    "# set up time vector and apply sine wave to show the tide.\n",
    "time = np.arange(0,24.,0.01)\n",
    "Zw = 0.5*TIDAL_RANGE*np.sin(time*2.*np.pi/12.)\n",
    "\n",
    "# set up a figure and set of axes for plotting\n",
    "fig3, ax3 = plt.subplots()\n",
    "\n",
    "# plot a tidal wave over a single day\n",
    "ax3.plot(time,Zw,'b-')\n",
    "ax3.set_xlabel(\"Time (hours)\")\n",
    "ax3.set_ylabel(\"Water level (m)\")"
   ]
  },
  {
   "cell_type": "markdown",
   "metadata": {},
   "source": [
    "So the tide means that waves can attack a range of elevations, but those elevations do not all recieve the same amount of energy. We can plot a histogram of the water levels the tide operates at in order to visualise this:"
   ]
  },
  {
   "cell_type": "code",
   "execution_count": null,
   "metadata": {},
   "outputs": [],
   "source": [
    "fig4, ax4 = plt.subplots()\n",
    "ax4.hist(Zw, bins=20, orientation='horizontal', density=True)\n",
    "ax4.set_xlabel(\"Relative tidal duration (no units)\")\n",
    "ax4.set_ylabel(\"Water level (m)\")"
   ]
  },
  {
   "cell_type": "markdown",
   "metadata": {},
   "source": [
    "As you can see, when we split the tidal range up into equal elevation parts, the tide spends more time close to the limits of its range than it does in the elevations in between. So we might expect that erosion will be focused at the upper and lower tidal limit. This would make sense for the formation of type B platforms.\n",
    "\n",
    "<img src=\"platform_types.png\" width=\"800\">\n",
    "\n",
    "Now let's look at how that influences where waves break across a shore platform. First, let's check our shore platform defined above is still in place, creating a new figure:"
   ]
  },
  {
   "cell_type": "code",
   "execution_count": null,
   "metadata": {},
   "outputs": [],
   "source": [
    "fig1"
   ]
  },
  {
   "cell_type": "markdown",
   "metadata": {},
   "source": [
    "We will select each value of the water level in turn and find the position of the breaking wave at each elevation and integrate all the breaking wave energy delivered across a single tidal cycle."
   ]
  },
  {
   "cell_type": "code",
   "execution_count": null,
   "metadata": {},
   "outputs": [],
   "source": [
    "\"\"\" SET THE TIDAL RANGE HERE (in metres) \"\"\"\n",
    "TIDAL_RANGE = 4.\n",
    "\n",
    "\"\"\" SET THE WAVE HEIGHT AGAIN HERE \"\"\"\n",
    "WAVEHEIGHT = 1.\n",
    "\n",
    "\"\"\" SET THE WAVE DECAY COEFFICIENT AGAIN HERE \"\"\"\n",
    "DECAY_COEFFICIENT = 0.1\n",
    "\n",
    "# set up an array to collect wave energy in\n",
    "CumulativeWaveHeight = np.zeros(len(Z))\n",
    "\n",
    "# reset water levels incase change of wave height\n",
    "Zw = 0.5*TIDAL_RANGE*np.sin(time*2.*np.pi/12.)\n",
    "\n",
    "# set up a loop to consider each water level in the progressive position of the tide in turn\n",
    "for WaterLevel in Zw:\n",
    "    \n",
    "    # find water level\n",
    "    WaterLevelInd = np.argmin(np.abs(WaterLevel-Z))\n",
    "    \n",
    "    # calculate water depth and find breaking point\n",
    "    WaterDepth = WaterLevel-Z[0:WaterLevelInd]\n",
    "    BreakingPoint = np.argmin(np.abs(WaterDepth-WAVEHEIGHT*0.8))\n",
    "    \n",
    "    # calculate wave height from this point towards the coast\n",
    "    H = np.zeros(len(Z))\n",
    "    H[BreakingPoint:] = WAVEHEIGHT*np.exp(-(X[BreakingPoint:]-X[BreakingPoint])*DECAY_COEFFICIENT)\n",
    "    \n",
    "    # update the total wave energy array\n",
    "    CumulativeWaveHeight += H\n",
    "\n",
    "NormedWaveEnergy = CumulativeWaveHeight/np.max(CumulativeWaveHeight)\n",
    "\n",
    "# find high and low tide positions\n",
    "LowTideInd = np.argmin(np.abs(-0.5*TIDAL_RANGE-Z))\n",
    "HighTideInd = np.argmin(np.abs(0.5*TIDAL_RANGE-Z))\n",
    "\n",
    "# plot the results\n",
    "fig5, ax5 = plt.subplots()\n",
    "\n",
    "# plot the platform and mean sea level at 0m\n",
    "ax5.plot(X,Z,'k-')\n",
    "ax5.plot([X[0],X[SLInd]],[0,0],'b--')\n",
    "ax5.plot([X[0],X[LowTideInd]],[-0.5*TIDAL_RANGE,-0.5*TIDAL_RANGE],'b:')\n",
    "ax5.plot([X[0],X[HighTideInd]],[0.5*TIDAL_RANGE,0.5*TIDAL_RANGE],'b:')\n",
    "ax5.set_xlabel(\"Distance (m)\")\n",
    "ax5.set_ylabel(\"Elevation (m)\")\n",
    " \n",
    "sc = ax5.scatter(X, Z, s=NormedWaveEnergy*100., c=CumulativeWaveHeight, zorder=10)\n",
    "cbar = plt.colorbar(sc)\n",
    "cbar.set_label(\"Relative Wave Energy (m)\")\n",
    "\n",
    "\"\"\" MODIFY THE NUMBERS HERE TO CONTROL THE LIMITS OF THE HORIZONTAL AXIS IF YOU WANT TO\"\"\"\n",
    "ax5.set_xlim(-200,100)"
   ]
  },
  {
   "cell_type": "markdown",
   "metadata": {},
   "source": [
    "<div class=\"alert alert-block alert-info\">\n",
    "<font color=\"black\">\n",
    "<h3>TASK 2</h3>\n",
    "<p> Modify parameters above to answer the following questions:\n",
    "<ol>\n",
    "    <li>Where in the intertidal zone is the most wave energy focused? (e.g. upper, middle, lower, relative to mean sea level).\n",
    "    <li>Does modifying the wave height change where energy is focused in the intertidal zone?\n",
    "    <li>Does modifying the tidal range change where energy is focused in the intertidal zone?\n",
    "    <li>Does modifying the wave decay coefficient change where energy is focused at the coast?\n",
    "</ol>\n",
    "</p>\n",
    "<p></p>\n",
    "</font>\n",
    "</div>"
   ]
  },
  {
   "cell_type": "markdown",
   "metadata": {},
   "source": [
    "### DOUBLE CLICK ON THIS BLOCK AND YOU CAN TYPE YOUR ANSWERS\n",
    "\n",
    "Type your answers here once you have double-clicked."
   ]
  },
  {
   "cell_type": "markdown",
   "metadata": {},
   "source": [
    "## Rock decay\n",
    "\n",
    "There are a number of weathering processes that operate across shore platforms, and the rates of rock weathering and controls upon it are not well studied, in part due to the highly site specific nature and dependence on local bedrock type. Nevertheless, empirical and experimental research has related rates intertidal rock weathering to position within the intertidal zone (Porter et al., 2010). It is hypothesised that there is some optimum period of time for a shore platform to be dry for in order to maximise the efficacy of wetting-drying cycles causing differential stress within the rock, and allowing salt crystal growth to gradually prise open weaknesses. \n",
    "\n",
    "<img src=\"porter_weathering_function.png\" width=\"400\">\n",
    "\n",
    "Whilst ignoring some key processes, such as the role of biological agents, these experiments identified a relationship that can described mathematically using a humped exponential function that sets the peak rock decay efficacy at an elevation halfway between mean sea level and high tide:\n",
    "\n",
    "$$\n",
    "\\begin{equation}\n",
    "W_R = W_0 e^{{-(Z_{int}-0.25 T_R)^2}\\over{0.025 T_R}} \\qquad \\textrm{where} \\qquad z > Z_W\n",
    "\\end{equation}\n",
    "$$\n",
    "\n",
    "$$\n",
    "\\begin{equation}\n",
    "W_R = W_0 e^{{-(Z_W-Z_{int})^2}\\over{0.25 T_R}} \\qquad \\textrm{where} \\qquad z < Z_W\n",
    "\\end{equation}\n",
    "$$\n",
    "\n",
    "You dont need to worry too much about the precise nature of these equations, except that they have been manipulated to best describe the distribution of rock decay in the intertidal zone identified by Porter et al. (2010). We can make out own version of this plot by applyign the equations above:"
   ]
  },
  {
   "cell_type": "code",
   "execution_count": null,
   "metadata": {},
   "outputs": [],
   "source": [
    "# set up intertidal elevations\n",
    "IntertidalElevations = np.arange(0.5*TIDAL_RANGE,-0.5*TIDAL_RANGE-0.000001,-TIDAL_RANGE/100.)\n",
    "WeatheringEfficacy = np.zeros(len(IntertidalElevations))\n",
    "\n",
    "# find the location of the maximimum weathering rate\n",
    "MaxWeatheringInd = np.argmin(np.abs(IntertidalElevations-0.25*TIDAL_RANGE))\n",
    "\n",
    "#calculate the distribution of weathering rates\n",
    "WeatheringEfficacy[0:MaxWeatheringInd] = np.exp(-((IntertidalElevations[0:MaxWeatheringInd]-0.25*TIDAL_RANGE)**2.)/(0.1*0.25*TIDAL_RANGE))\n",
    "WeatheringEfficacy[MaxWeatheringInd:] = np.exp(-(0.25*TIDAL_RANGE-IntertidalElevations[MaxWeatheringInd:])**2./(0.25*TIDAL_RANGE))\n",
    "\n",
    "# set up a new figure\n",
    "fig6, ax6 = plt.subplots(figsize=(4,6))\n",
    "ax6.plot(WeatheringEfficacy, IntertidalElevations, 'k-')\n",
    "ax6.set_xlabel(\"Relative weathering efficacy\")\n",
    "ax6.set_ylabel(\"Intertidal elevation (m)\")\n",
    "ax6.set_ylim(-0.5*TIDAL_RANGE,0.5*TIDAL_RANGE)"
   ]
  },
  {
   "cell_type": "markdown",
   "metadata": {},
   "source": [
    "<div class=\"alert alert-block alert-info\">\n",
    "<font color=\"black\">\n",
    "<h3>TASK 3</h3>\n",
    "<p> Building on your knowledge of where wave energy is focused in the intertidal zone from earlier in the lab, compare to where intertidal weathering processes operate most effectively. What are the implications for the development of shore platforms?\n",
    "</p>\n",
    "<p></p>\n",
    "</font>\n",
    "</div>"
   ]
  },
  {
   "cell_type": "markdown",
   "metadata": {},
   "source": [
    "### DOUBLE CLICK ON THIS BLOCK AND YOU CAN TYPE YOUR ANSWERS\n",
    "\n",
    "Type your answers here once you have double-clicked."
   ]
  },
  {
   "cell_type": "markdown",
   "metadata": {},
   "source": [
    "## MODEL\n",
    "\n",
    "The block of code below brings this theory together and defines the model for shore platform development we will use. You will be guided on how to modify and run the model below this block of code. \n",
    "\n",
    "The code below is a class function that ***defines*** the model. This means that we create the model as a set of instruction but doesn't actually execute them or run the model yet. We will ***call*** this class function later once we are ready to run the model. You do not need to spend loads of time fully understanding exactly how the model works, but cast your eyes through it reading the comments to see that the structure reflects the flow diagram above. Then execute the cell containing the model so that it is ***defined***."
   ]
  },
  {
   "cell_type": "code",
   "execution_count": null,
   "metadata": {},
   "outputs": [],
   "source": [
    "# The main model goes here as a python class\n",
    "class RockCoast:\n",
    "    \n",
    "    \"\"\" \n",
    "    A simple rock coast evolution model for teaching purposes\n",
    "    \n",
    "    Martin D. Hurst\n",
    "    University of Glasgow\n",
    "    August 2020\n",
    "        \n",
    "    \"\"\"\n",
    "    \n",
    "    # setup an initialisation function\n",
    "    # This defines the default variables and parameters for the model\n",
    "    def __init__(self):\n",
    "        \n",
    "        # default spatial domain\n",
    "        self.InitialSlope = 1.  # intial conditions\n",
    "        self.dz = 0.1           # row spacing (metres)\n",
    "        self.ZMax = 10.          # max elevation (metres)\n",
    "        self.ZMin = -10.          # min elevation (metres)\n",
    "        self.Z = np.arange(self.ZMin,self.ZMax,self.dz)\n",
    "        self.X = self.Z/self.InitialSlope\n",
    "        \n",
    "        # default boundary conditions\n",
    "        self.WaveHeight = 2.        # wave height (metres)\n",
    "        self.WaveForceCoef = 10.    # coefficient for efficiency of wave action\n",
    "        self.TidalRange = 2.        # tidal range (metres)\n",
    "        self.WaveDecayCoef = 0.1    # (in metres?)\n",
    "        self.SeaLevel = 0.          # elevation (metres)\n",
    "        self.SeaLevelRise = 0.      # rate (m/yr)\n",
    "        \n",
    "        # tectonics\n",
    "        self.EarthquakeUplift = 0.\n",
    "        self.EarthquakeTime = 1000.\n",
    "        self.EarthquakeInterval = 1000.\n",
    "        \n",
    "        # resistance and weathering\n",
    "        self.MaxResistance = 2000.\n",
    "        self.Resistance = np.ones(len(self.Z))*self.MaxResistance\n",
    "        self.MaxWeatheringEfficacy = 100.\n",
    "        \n",
    "        # setup the time control\n",
    "        self.Time = 0.         # we will start at time 0 (years)\n",
    "        self.dt = 1.           # time step (y)\n",
    "        self.EndTime = 1000.   # time the model will stop (y)\n",
    "        \n",
    "        # setup plotting control\n",
    "        self.PlotFigures = True\n",
    "        self.PlotTime = 0.\n",
    "        self.PlotInterval = 100.\n",
    "            \n",
    "    # this function runs the model\n",
    "    def RunModel(self):\n",
    "        \n",
    "        # Create a progress bar to show the model is working\n",
    "        f = FloatProgress(min=self.Time,max=self.EndTime)\n",
    "        display(f)\n",
    "        \n",
    "        # set up a figure for plotting the results\n",
    "        fig, ax = plt.subplots(figsize=(16,6))\n",
    "        ax.set_xlabel(\"Distance (m)\")\n",
    "        ax.set_ylabel(\"Elevation (m)\")\n",
    "        Times = []\n",
    "        \n",
    "        # reset the initial model domain\n",
    "        self.Z = np.arange(self.ZMin,self.ZMax,self.dz)\n",
    "        self.X = self.Z/self.InitialSlope\n",
    "        \n",
    "        # set up an array to collect wave energy in\n",
    "        CumulativeWaveHeight = np.zeros(len(self.Z))\n",
    "\n",
    "        # create tidal water levels\n",
    "        TideTime = np.arange(0,24.,0.1)\n",
    "        Zw = 0.5*self.TidalRange*np.sin(TideTime*2.*np.pi/12.)\n",
    "        \n",
    "        # set up weathering distribution\n",
    "        IntertidalElevations = np.arange(0.5*self.TidalRange,-0.5*self.TidalRange-0.000001,-self.dz)\n",
    "        WeatheringEfficacy = np.zeros(len(IntertidalElevations))\n",
    "\n",
    "        # find the location of the maximimum weathering rate\n",
    "        MaxWeatheringInd = np.argmin(np.abs(IntertidalElevations-0.25*self.TidalRange))\n",
    "\n",
    "        #calculate the distribution of weathering rates\n",
    "        WeatheringEfficacy[0:MaxWeatheringInd] = self.MaxWeatheringEfficacy*np.exp(-((IntertidalElevations[0:MaxWeatheringInd]-0.25*self.TidalRange)**2.)/(0.1*0.25*self.TidalRange))\n",
    "        WeatheringEfficacy[MaxWeatheringInd:] = self.MaxWeatheringEfficacy*np.exp(-(0.25*self.TidalRange-IntertidalElevations[MaxWeatheringInd:])**2./(0.25*self.TidalRange))\n",
    "        WeatheringEfficacy = WeatheringEfficacy[::-1]\n",
    "        \n",
    "        # loop through time and update hillslope morphology\n",
    "        while self.Time <= self.EndTime:\n",
    "    \n",
    "            # find high and low tide positions\n",
    "            LowTideInd = np.argmin(np.abs(self.SeaLevel-0.5*self.TidalRange-self.Z))\n",
    "            HighTideInd = np.argmin(np.abs(self.SeaLevel+0.5*self.TidalRange-self.Z))\n",
    "\n",
    "            # Calculate Total Wave Force impacting the coast over a tidal cycle\n",
    "            WaveForce = np.zeros(len(self.Z))\n",
    "\n",
    "            # set up a loop to consider each water level in the progressive position of the tide in turn\n",
    "            for WaterLevel in Zw:\n",
    "\n",
    "                # find water level\n",
    "                WaterLevelInd = np.argmin(np.abs(self.SeaLevel+WaterLevel-self.Z))\n",
    "                \n",
    "\n",
    "                # calculate water depth and find breaking point\n",
    "                WaterDepth = self.SeaLevel+WaterLevel-self.Z[0:WaterLevelInd]\n",
    "                try:\n",
    "                    BreakingPoint = np.argmin(np.abs(WaterDepth-self.WaveHeight*0.8))\n",
    "                except:\n",
    "                    print(WaterLevelInd)\n",
    "                    \n",
    "                # calculate wave height from this point towards the coast\n",
    "                H = np.zeros(len(self.Z))\n",
    "                H[BreakingPoint:HighTideInd] = self.WaveHeight*np.exp(-(self.X[BreakingPoint:HighTideInd]-self.X[BreakingPoint:HighTideInd])*self.WaveDecayCoef)\n",
    "\n",
    "                # update the total wave energy array\n",
    "                WaveForce += H**2.\n",
    "            \n",
    "            # set efficacy of waves\n",
    "            WaveForce *= self.WaveForceCoef\n",
    "            \n",
    "            # do some intertidal weathering\n",
    "            for i in range(LowTideInd, HighTideInd):\n",
    "                self.Resistance[i] -= WeatheringEfficacy[i-LowTideInd]\n",
    "            \n",
    "            for i in range(0,len(self.Z)):\n",
    "                while WaveForce[i] > self.Resistance[i]:\n",
    "                    self.X[i] += 0.1\n",
    "                    WaveForce[i] -= self.Resistance[i]\n",
    "                    self.Resistance[i] = self.MaxResistance\n",
    "            \n",
    "            # collapse cliff if there is any undercutting\n",
    "            # find most landward point in intertidal zone\n",
    "            MaxIntertidalX = np.max(self.X[LowTideInd:HighTideInd])\n",
    "            MaxIntertidalXInd = LowTideInd+np.argmax(self.X[LowTideInd:HighTideInd])\n",
    "            \n",
    "            for i in range(MaxIntertidalXInd,len(self.X)):\n",
    "                if self.X[i] < MaxIntertidalX:\n",
    "                    self.X[i] = MaxIntertidalX\n",
    "            \n",
    "            # plot the model progress\n",
    "            if self.Time >= self.PlotTime:\n",
    "                ax.plot(self.X,self.Z,color=cm.coolwarm(self.Time/self.EndTime))\n",
    "                Times.append(self.PlotTime)\n",
    "                #plt.plot(x[i_sealevel],z[i_sealevel],'ro',markersize=10)\n",
    "                #plt.plot([x[0],x[0]],[z[0],z[0]+5.0],color=[t_ime/t_max,0.5,0.5])       \n",
    "                \n",
    "                # update plot time\n",
    "                self.PlotTime += self.PlotInterval\n",
    "                # update progress bar\n",
    "                f.value = self.Time\n",
    "            \n",
    "            # update time\n",
    "            self.Time += self.dt\n",
    "                        \n",
    "            # update sea level\n",
    "            self.SeaLevel += self.SeaLevelRise*self.dt\n",
    "            \n",
    "            # do earthquake?\n",
    "            if self.Time > self.EarthquakeTime:\n",
    "                self.Z += self.EarthquakeUplift\n",
    "                self.EarthquakeTime += self.EarthquakeInterval\n",
    "    \n",
    "        sm = plt.cm.ScalarMappable(cmap=cm.coolwarm)\n",
    "        sm.set_array(Times)\n",
    "        cbar = plt.colorbar(sm)\n",
    "        cbar.set_label(\"Time (years)\")\n",
    "        "
   ]
  },
  {
   "cell_type": "markdown",
   "metadata": {},
   "source": [
    "### Run the model with default parameters\n",
    "The code below will create an instance of the model which will automatically set itself up with the default parameters according to the code above.\n",
    "\n",
    "Let's start by running the model with the default parameters and looking at the output generated. By default, the results are plotted every 100 years."
   ]
  },
  {
   "cell_type": "code",
   "execution_count": null,
   "metadata": {},
   "outputs": [],
   "source": [
    "\"\"\" IN THIS BLOCK WE WILL CREATE A ROCK COAST MODEL OBJECT AND THEN RUN IT\"\"\"\n",
    "MyRockCoast = RockCoast()\n",
    "MyRockCoast.RunModel()"
   ]
  },
  {
   "cell_type": "markdown",
   "metadata": {},
   "source": [
    "Now we will explore how different sea level boundary conditions influence the development of the shore platform and its resulting morphology. Note how we declare a new model instance called `MyRockCoast`, then set `MyRockCoast.SeaLevelRise` before running the model with `MyRockCoast.RunModel()`. This is how we can modify any of the default model parameters."
   ]
  },
  {
   "cell_type": "code",
   "execution_count": null,
   "metadata": {},
   "outputs": [],
   "source": [
    "\"\"\" IN THIS BLOCK WE WILL CREATE A ROCK COAST MODEL OBJECT AND MODIFY SEA LEVEL THEN RUN IT\"\"\"\n",
    "MyRockCoast = RockCoast()\n",
    "MyRockCoast.SeaLevelRise = 0.0035 # 3.5 mm/yr\n",
    "MyRockCoast.RunModel()"
   ]
  },
  {
   "cell_type": "code",
   "execution_count": null,
   "metadata": {},
   "outputs": [],
   "source": [
    "\"\"\" IN THIS BLOCK WE WILL CREATE A ROCK COAST MODEL OBJECT AND MODIFY SEA LEVEL AND THEN RUN IT\"\"\"\n",
    "MyRockCoast = RockCoast()\n",
    "MyRockCoast.SeaLevelRise = -0.0035 # 3.5 mm/yr\n",
    "MyRockCoast.RunModel()"
   ]
  },
  {
   "cell_type": "code",
   "execution_count": null,
   "metadata": {},
   "outputs": [],
   "source": [
    "\"\"\" IN THIS BLOCK WE WILL CREATE A ROCK COAST MODEL OBJECT AND TURN ON EARTHQUAKES AND THEN RUN IT\"\"\"\n",
    "MyRockCoast = RockCoast()\n",
    "MyRockCoast.EarthquakeTime = 600 # years\n",
    "MyRockCoast.EarthquakeUplift = 5.\n",
    "MyRockCoast.RunModel()"
   ]
  },
  {
   "cell_type": "markdown",
   "metadata": {},
   "source": [
    "<div class=\"alert alert-block alert-info\">\n",
    "<font color=\"black\">\n",
    "<h3>TASK 4</h3>\n",
    "<p> Write a paragraph explaining the influence of relative sea level change on shore platform morphology and evolution. Comment on the conditions that might lead to formation of marine terraces.\n",
    "</p>\n",
    "<p></p>\n",
    "</font>\n",
    "</div>"
   ]
  },
  {
   "cell_type": "markdown",
   "metadata": {},
   "source": [
    "### DOUBLE CLICK ON THIS BLOCK AND YOU CAN TYPE YOUR ANSWERS\n",
    "\n",
    "Type your answers here once you have double-clicked."
   ]
  },
  {
   "cell_type": "markdown",
   "metadata": {},
   "source": [
    "## Explore the influence of another parameter on rock coast development\n",
    "\n",
    "Now that you've seen how we can change model parameters, its time to start tinkering with the model yourself. ***Note that there is a very good chance that you will break the model if you change some parameters too much*** the simplified nature of this model is missing some checks and balances from the full version that stop it going off the rails. Don't worry about it! \n",
    "\n",
    "Below are some examples of parameters you might change. They are currently all set to their default values."
   ]
  },
  {
   "cell_type": "code",
   "execution_count": null,
   "metadata": {},
   "outputs": [],
   "source": [
    "\"\"\" IN THIS BLOCK WE WILL CREATE A ROCK COAST MODEL OBJECT AND MODIFY SOME PARAMETERS\"\"\"\n",
    "MyRockCoast = RockCoast()\n",
    "MyRockCoast.InitialSlope = 1.      # gradient of the initial topography\n",
    "\n",
    "MyRockCoast.WaveHeight = 2.        # wave height in metres\n",
    "MyRockCoast.WaveForceCoef = 10.    # coefficient for efficiency of wave action\n",
    "MyRockCoast.WaveDecayCoef = 0.1    # (in metres?)\n",
    "MyRockCoast.TidalRange = 2.        # tidal range (metres)\n",
    "\n",
    "MyRockCoast.MaxResistance = 2000.           # max resisting force\n",
    "MyRockCoast.MaxWeatheringEfficacy = 100.    # max weathering rate (per year)\n",
    "MyRockCoast.RunModel()"
   ]
  },
  {
   "cell_type": "markdown",
   "metadata": {},
   "source": [
    "<div class=\"alert alert-block alert-info\">\n",
    "<font color=\"black\">\n",
    "<h3>TASK 5</h3>\n",
    "<p> Write a paragraph explaining the sensitivity of the shore platform development model to the parameter/boundary condition that you have modified. Explain why you chose the parameter you did and what the implications of your findings are for the erosion of real rock coasts.\n",
    "</p>\n",
    "<p></p>\n",
    "</font>\n",
    "</div>"
   ]
  },
  {
   "cell_type": "markdown",
   "metadata": {},
   "source": [
    "### DOUBLE CLICK ON THIS BLOCK AND YOU CAN TYPE YOUR ANSWERS\n",
    "\n",
    "Type your answers here once you have double-clicked."
   ]
  },
  {
   "cell_type": "markdown",
   "metadata": {},
   "source": [
    "# SAVE YOUR WORK\n",
    "Click on `File` -> `Download as` -> ...\n",
    "\n",
    "I recommend saving it as \".ipynb\" (the fully interactive notebook) ***AND*** \".pdf via Latex\" so that you have a static record of all the work and your answers to the tasks. You could also save a static html webpage (which oyu'd be able to open anytime in any browser)."
   ]
  }
 ],
 "metadata": {
  "kernelspec": {
   "display_name": "Python 3",
   "language": "python",
   "name": "python3"
  },
  "language_info": {
   "codemirror_mode": {
    "name": "ipython",
    "version": 3
   },
   "file_extension": ".py",
   "mimetype": "text/x-python",
   "name": "python",
   "nbconvert_exporter": "python",
   "pygments_lexer": "ipython3",
   "version": "3.6.5"
  }
 },
 "nbformat": 4,
 "nbformat_minor": 2
}
